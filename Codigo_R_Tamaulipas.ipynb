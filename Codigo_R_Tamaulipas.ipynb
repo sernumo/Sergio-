{
 "cells": [
  {
   "cell_type": "markdown",
   "metadata": {},
   "source": [
    "## En este código se modifican datos de una empresa privada de Energía Eólica"
   ]
  },
  {
   "cell_type": "code",
   "execution_count": 31,
   "metadata": {},
   "outputs": [],
   "source": [
    "library(lubridate)\n",
    "library(ggplot2)\n",
    "library(tidyverse)"
   ]
  },
  {
   "cell_type": "code",
   "execution_count": 32,
   "metadata": {},
   "outputs": [],
   "source": [
    "#LLamado del archivo base\n",
    "Tam_windspeeddata <- read.csv(\"~/Proyecto_Energia/Tam_windspeeddata.csv\")\n"
   ]
  },
  {
   "cell_type": "code",
   "execution_count": 33,
   "metadata": {},
   "outputs": [],
   "source": [
    "#Creando un archivo para modificar\n",
    "wind1 <- Tam_windspeeddata"
   ]
  },
  {
   "cell_type": "code",
   "execution_count": 34,
   "metadata": {},
   "outputs": [
    {
     "name": "stdout",
     "output_type": "stream",
     "text": [
      "'data.frame':\t55519 obs. of  2 variables:\n",
      " $ PCTimeStamp            : Factor w/ 55519 levels \"01/01/2019\",\"01/01/2019 00:10\",..: 1 2 3 4 5 6 7 8 9 10 ...\n",
      " $ Avg.wind.speed.m.s.130m: num  2.5 3.5 4.3 4.4 4.3 4.4 4.6 4.3 4.7 4.2 ...\n"
     ]
    }
   ],
   "source": [
    "#Muestra la estructura de los datos\n",
    "str(wind1)"
   ]
  },
  {
   "cell_type": "code",
   "execution_count": 35,
   "metadata": {},
   "outputs": [],
   "source": [
    "#Convierte todos los datos a datos tipo caracter\n",
    "wind1[] <- lapply(wind1, as.character)"
   ]
  },
  {
   "cell_type": "code",
   "execution_count": 36,
   "metadata": {},
   "outputs": [
    {
     "name": "stdout",
     "output_type": "stream",
     "text": [
      "'data.frame':\t55519 obs. of  2 variables:\n",
      " $ PCTimeStamp            : chr  \"01/01/2019\" \"01/01/2019 00:10\" \"01/01/2019 00:20\" \"01/01/2019 00:30\" ...\n",
      " $ Avg.wind.speed.m.s.130m: chr  \"2.5\" \"3.5\" \"4.3\" \"4.4\" ...\n"
     ]
    }
   ],
   "source": [
    "#Muestra la estructura de los datos (deben ser caracteres)\n",
    "str(wind1)"
   ]
  },
  {
   "cell_type": "code",
   "execution_count": 37,
   "metadata": {},
   "outputs": [
    {
     "data": {
      "text/html": [
       "<style>\n",
       ".dl-inline {width: auto; margin:0; padding: 0}\n",
       ".dl-inline>dt, .dl-inline>dd {float: none; width: auto; display: inline-block}\n",
       ".dl-inline>dt::after {content: \":\\0020\"; padding-right: .5ex}\n",
       ".dl-inline>dt:not(:first-of-type) {padding-left: .5ex}\n",
       "</style><dl class=dl-inline><dt>PCTimeStamp</dt><dd>0</dd><dt>Avg.wind.speed.m.s.130m</dt><dd>3870</dd></dl>\n"
      ],
      "text/latex": [
       "\\begin{description*}\n",
       "\\item[PCTimeStamp] 0\n",
       "\\item[Avg.wind.speed.m.s.130m] 3870\n",
       "\\end{description*}\n"
      ],
      "text/markdown": [
       "PCTimeStamp\n",
       ":   0Avg.wind.speed.m.s.130m\n",
       ":   3870\n",
       "\n"
      ],
      "text/plain": [
       "            PCTimeStamp Avg.wind.speed.m.s.130m \n",
       "                      0                    3870 "
      ]
     },
     "metadata": {},
     "output_type": "display_data"
    }
   ],
   "source": [
    "#Cuenta los datos nulos por columna\n",
    "sapply(wind1, function(x) sum(is.na(x)))\n"
   ]
  },
  {
   "cell_type": "code",
   "execution_count": 38,
   "metadata": {},
   "outputs": [],
   "source": [
    "#Elimina filas con NA\n",
    "wind1 <- na.omit(wind1)"
   ]
  },
  {
   "cell_type": "code",
   "execution_count": 39,
   "metadata": {},
   "outputs": [
    {
     "data": {
      "text/html": [
       "<style>\n",
       ".dl-inline {width: auto; margin:0; padding: 0}\n",
       ".dl-inline>dt, .dl-inline>dd {float: none; width: auto; display: inline-block}\n",
       ".dl-inline>dt::after {content: \":\\0020\"; padding-right: .5ex}\n",
       ".dl-inline>dt:not(:first-of-type) {padding-left: .5ex}\n",
       "</style><dl class=dl-inline><dt>PCTimeStamp</dt><dd>0</dd><dt>Avg.wind.speed.m.s.130m</dt><dd>0</dd></dl>\n"
      ],
      "text/latex": [
       "\\begin{description*}\n",
       "\\item[PCTimeStamp] 0\n",
       "\\item[Avg.wind.speed.m.s.130m] 0\n",
       "\\end{description*}\n"
      ],
      "text/markdown": [
       "PCTimeStamp\n",
       ":   0Avg.wind.speed.m.s.130m\n",
       ":   0\n",
       "\n"
      ],
      "text/plain": [
       "            PCTimeStamp Avg.wind.speed.m.s.130m \n",
       "                      0                       0 "
      ]
     },
     "metadata": {},
     "output_type": "display_data"
    }
   ],
   "source": [
    "#Cuenta los datos nulos por columna\n",
    "sapply(wind1, function(x) sum(is.na(x)))"
   ]
  },
  {
   "cell_type": "code",
   "execution_count": 40,
   "metadata": {},
   "outputs": [
    {
     "data": {
      "text/html": [
       "<table>\n",
       "<caption>A data.frame: 6 × 2</caption>\n",
       "<thead>\n",
       "\t<tr><th></th><th scope=col>PCTimeStamp</th><th scope=col>Avg.wind.speed.m.s.130m</th></tr>\n",
       "\t<tr><th></th><th scope=col>&lt;chr&gt;</th><th scope=col>&lt;chr&gt;</th></tr>\n",
       "</thead>\n",
       "<tbody>\n",
       "\t<tr><th scope=row>1</th><td>01/01/2019      </td><td>2.5</td></tr>\n",
       "\t<tr><th scope=row>2</th><td>01/01/2019 00:10</td><td>3.5</td></tr>\n",
       "\t<tr><th scope=row>3</th><td>01/01/2019 00:20</td><td>4.3</td></tr>\n",
       "\t<tr><th scope=row>4</th><td>01/01/2019 00:30</td><td>4.4</td></tr>\n",
       "\t<tr><th scope=row>5</th><td>01/01/2019 00:40</td><td>4.3</td></tr>\n",
       "\t<tr><th scope=row>6</th><td>01/01/2019 00:50</td><td>4.4</td></tr>\n",
       "</tbody>\n",
       "</table>\n"
      ],
      "text/latex": [
       "A data.frame: 6 × 2\n",
       "\\begin{tabular}{r|ll}\n",
       "  & PCTimeStamp & Avg.wind.speed.m.s.130m\\\\\n",
       "  & <chr> & <chr>\\\\\n",
       "\\hline\n",
       "\t1 & 01/01/2019       & 2.5\\\\\n",
       "\t2 & 01/01/2019 00:10 & 3.5\\\\\n",
       "\t3 & 01/01/2019 00:20 & 4.3\\\\\n",
       "\t4 & 01/01/2019 00:30 & 4.4\\\\\n",
       "\t5 & 01/01/2019 00:40 & 4.3\\\\\n",
       "\t6 & 01/01/2019 00:50 & 4.4\\\\\n",
       "\\end{tabular}\n"
      ],
      "text/markdown": [
       "\n",
       "A data.frame: 6 × 2\n",
       "\n",
       "| <!--/--> | PCTimeStamp &lt;chr&gt; | Avg.wind.speed.m.s.130m &lt;chr&gt; |\n",
       "|---|---|---|\n",
       "| 1 | 01/01/2019       | 2.5 |\n",
       "| 2 | 01/01/2019 00:10 | 3.5 |\n",
       "| 3 | 01/01/2019 00:20 | 4.3 |\n",
       "| 4 | 01/01/2019 00:30 | 4.4 |\n",
       "| 5 | 01/01/2019 00:40 | 4.3 |\n",
       "| 6 | 01/01/2019 00:50 | 4.4 |\n",
       "\n"
      ],
      "text/plain": [
       "  PCTimeStamp      Avg.wind.speed.m.s.130m\n",
       "1 01/01/2019       2.5                    \n",
       "2 01/01/2019 00:10 3.5                    \n",
       "3 01/01/2019 00:20 4.3                    \n",
       "4 01/01/2019 00:30 4.4                    \n",
       "5 01/01/2019 00:40 4.3                    \n",
       "6 01/01/2019 00:50 4.4                    "
      ]
     },
     "metadata": {},
     "output_type": "display_data"
    }
   ],
   "source": [
    "head(wind1)"
   ]
  },
  {
   "cell_type": "code",
   "execution_count": 41,
   "metadata": {},
   "outputs": [
    {
     "name": "stderr",
     "output_type": "stream",
     "text": [
      "Warning message:\n",
      "\" 361 failed to parse.\"\n"
     ]
    }
   ],
   "source": [
    "#Convierte la variable PCTimeStamp a tipo fecha y Avg.wind.speed a dato numérico\n",
    "wind1$PCTimeStamp <- parse_date_time(wind1$PCTimeStamp,\"dmy HM\")\n",
    "wind1$Avg.wind.speed.m.s.130m <- as.numeric(wind1$Avg.wind.speed.m.s.130m)"
   ]
  },
  {
   "cell_type": "code",
   "execution_count": 42,
   "metadata": {},
   "outputs": [],
   "source": [
    "#Crea las variables de: fecha, mes, día, año, hora y minuto por separado\n",
    "wind1$fecha <- date(wind1$PCTimeStamp)\n",
    "wind1$mes <- month(wind1$PCTimeStamp)\n",
    "wind1$dia <- day(wind1$PCTimeStamp)\n",
    "wind1$anio <- year(wind1$PCTimeStamp)\n",
    "wind1$hora <- hour(wind1$PCTimeStamp)\n",
    "wind1$minuto <- minute(wind1$PCTimeStamp)"
   ]
  },
  {
   "cell_type": "code",
   "execution_count": 43,
   "metadata": {},
   "outputs": [],
   "source": [
    "#Elimina filas con NA\n",
    "wind1 <- na.omit(wind1)"
   ]
  },
  {
   "cell_type": "code",
   "execution_count": 44,
   "metadata": {},
   "outputs": [],
   "source": [
    "#Defino donde voy a guardar mi archivo de respaldo\n",
    "setwd(\"~/Proyecto_Energia\")"
   ]
  },
  {
   "cell_type": "code",
   "execution_count": 45,
   "metadata": {},
   "outputs": [],
   "source": [
    "##Guardamos nuestro nuevo archivo ya con los datos en las variables correctas\n",
    "write.csv(wind1, file=\"Viento_Tam2019.csv\", row.names = F)"
   ]
  },
  {
   "cell_type": "code",
   "execution_count": 46,
   "metadata": {},
   "outputs": [
    {
     "data": {
      "text/plain": [
       "   Min. 1st Qu.  Median    Mean 3rd Qu.    Max. \n",
       "  0.100   5.000   7.500   7.733  10.300  22.200 "
      ]
     },
     "metadata": {},
     "output_type": "display_data"
    }
   ],
   "source": [
    "#Muestra un resumen con las estadisticas basicas de cada variable\n",
    "summary(wind1$Avg.wind.speed.m.s.130m)"
   ]
  },
  {
   "cell_type": "code",
   "execution_count": 48,
   "metadata": {},
   "outputs": [
    {
     "data": {
      "image/png": "[encoded data removed]",
      "text/plain": [
       "plot without title"
      ]
     },
     "metadata": {
      "image/png": {
       "height": 420,
       "width": 420
      }
     },
     "output_type": "display_data"
    }
   ],
   "source": [
    "#Genera un archivo nuevo y grafica los datos para ver un primer comportamiento\n",
    "wind_prueba <- wind1 %>% select(1:2)\n",
    "plot(wind_prueba)"
   ]
  },
  {
   "cell_type": "code",
   "execution_count": 49,
   "metadata": {},
   "outputs": [
    {
     "data": {
      "image/png": "[encoded data removed]",
      "text/plain": [
       "Plot with title \"Distribución de Velocidades en Tamaulipas\""
      ]
     },
     "metadata": {
      "image/png": {
       "height": 420,
       "width": 420
      }
     },
     "output_type": "display_data"
    }
   ],
   "source": [
    "#Parte la pantalla en 2 filas y una columna además de definir los margenes\n",
    "par(mfrow = c(2,1), mar = c(2,2,2,2))\n",
    "#La primera fila sera el histograma anual de velocidades\n",
    "hist(wind_prueba$Avg.wind.speed.m.s.130m, main=\"Histograma de velocidades en Tamaulipas\", xlab=\"Velocidad del viento a 130m\", ylab = \"Frecuencia\" , col=\"#74D2B3\", xlim=c(0,25))\n",
    "\n",
    "#La segunda fila es el diagrama de caja de las velocidades anuales a la misma escala\n",
    "boxplot(wind1$Avg.wind.speed.m.s.130m, ylim= c(0,25), col=\"#74D2B3\", horizontal = T, main = \"Distribución de Velocidades en Tamaulipas\", xlab = \"Velocidades a 130 m (m/s)\", boxwex = 0.5)\n"
   ]
  },
  {
   "cell_type": "code",
   "execution_count": 50,
   "metadata": {},
   "outputs": [],
   "source": [
    "#Genera un archivo llamado wind_mes que agrupa los datos por mes y obtiene: minimo, promedio, media y máximo por mes\n",
    "wind_mes <- wind1 %>%\n",
    "  group_by(mes =wind1$mes)%>%\n",
    "  summarise(minim = min(Avg.wind.speed.m.s.130m,na.rm=T),mean = mean(Avg.wind.speed.m.s.130m,na.rm=T), mediana = median(Avg.wind.speed.m.s.130m,na.rm=T),max = max(Avg.wind.speed.m.s.130m,na.rm=T))\n"
   ]
  },
  {
   "cell_type": "code",
   "execution_count": 52,
   "metadata": {},
   "outputs": [
    {
     "data": {
      "text/html": [
       "<table>\n",
       "<caption>A tibble: 12 × 5</caption>\n",
       "<thead>\n",
       "\t<tr><th scope=col>mes</th><th scope=col>minim</th><th scope=col>mean</th><th scope=col>mediana</th><th scope=col>max</th></tr>\n",
       "\t<tr><th scope=col>&lt;dbl&gt;</th><th scope=col>&lt;dbl&gt;</th><th scope=col>&lt;dbl&gt;</th><th scope=col>&lt;dbl&gt;</th><th scope=col>&lt;dbl&gt;</th></tr>\n",
       "</thead>\n",
       "<tbody>\n",
       "\t<tr><td> 1</td><td>0.4</td><td>7.893214</td><td>7.70</td><td>22.2</td></tr>\n",
       "\t<tr><td> 2</td><td>0.2</td><td>6.440241</td><td>5.90</td><td>20.5</td></tr>\n",
       "\t<tr><td> 3</td><td>0.3</td><td>7.630070</td><td>7.60</td><td>20.3</td></tr>\n",
       "\t<tr><td> 4</td><td>1.0</td><td>8.805618</td><td>9.05</td><td>21.4</td></tr>\n",
       "\t<tr><td> 5</td><td>1.3</td><td>8.953320</td><td>9.10</td><td>19.7</td></tr>\n",
       "\t<tr><td> 6</td><td>0.4</td><td>7.727739</td><td>7.60</td><td>21.2</td></tr>\n",
       "\t<tr><td> 7</td><td>0.4</td><td>8.783465</td><td>9.30</td><td>17.3</td></tr>\n",
       "\t<tr><td> 8</td><td>1.4</td><td>8.548861</td><td>8.50</td><td>17.7</td></tr>\n",
       "\t<tr><td> 9</td><td>0.2</td><td>7.087308</td><td>7.10</td><td>17.9</td></tr>\n",
       "\t<tr><td>10</td><td>0.1</td><td>6.826836</td><td>6.60</td><td>21.5</td></tr>\n",
       "\t<tr><td>11</td><td>0.3</td><td>7.010606</td><td>6.30</td><td>21.8</td></tr>\n",
       "\t<tr><td>12</td><td>0.2</td><td>6.610938</td><td>5.80</td><td>18.8</td></tr>\n",
       "</tbody>\n",
       "</table>\n"
      ],
      "text/latex": [
       "A tibble: 12 × 5\n",
       "\\begin{tabular}{lllll}\n",
       " mes & minim & mean & mediana & max\\\\\n",
       " <dbl> & <dbl> & <dbl> & <dbl> & <dbl>\\\\\n",
       "\\hline\n",
       "\t  1 & 0.4 & 7.893214 & 7.70 & 22.2\\\\\n",
       "\t  2 & 0.2 & 6.440241 & 5.90 & 20.5\\\\\n",
       "\t  3 & 0.3 & 7.630070 & 7.60 & 20.3\\\\\n",
       "\t  4 & 1.0 & 8.805618 & 9.05 & 21.4\\\\\n",
       "\t  5 & 1.3 & 8.953320 & 9.10 & 19.7\\\\\n",
       "\t  6 & 0.4 & 7.727739 & 7.60 & 21.2\\\\\n",
       "\t  7 & 0.4 & 8.783465 & 9.30 & 17.3\\\\\n",
       "\t  8 & 1.4 & 8.548861 & 8.50 & 17.7\\\\\n",
       "\t  9 & 0.2 & 7.087308 & 7.10 & 17.9\\\\\n",
       "\t 10 & 0.1 & 6.826836 & 6.60 & 21.5\\\\\n",
       "\t 11 & 0.3 & 7.010606 & 6.30 & 21.8\\\\\n",
       "\t 12 & 0.2 & 6.610938 & 5.80 & 18.8\\\\\n",
       "\\end{tabular}\n"
      ],
      "text/markdown": [
       "\n",
       "A tibble: 12 × 5\n",
       "\n",
       "| mes &lt;dbl&gt; | minim &lt;dbl&gt; | mean &lt;dbl&gt; | mediana &lt;dbl&gt; | max &lt;dbl&gt; |\n",
       "|---|---|---|---|---|\n",
       "|  1 | 0.4 | 7.893214 | 7.70 | 22.2 |\n",
       "|  2 | 0.2 | 6.440241 | 5.90 | 20.5 |\n",
       "|  3 | 0.3 | 7.630070 | 7.60 | 20.3 |\n",
       "|  4 | 1.0 | 8.805618 | 9.05 | 21.4 |\n",
       "|  5 | 1.3 | 8.953320 | 9.10 | 19.7 |\n",
       "|  6 | 0.4 | 7.727739 | 7.60 | 21.2 |\n",
       "|  7 | 0.4 | 8.783465 | 9.30 | 17.3 |\n",
       "|  8 | 1.4 | 8.548861 | 8.50 | 17.7 |\n",
       "|  9 | 0.2 | 7.087308 | 7.10 | 17.9 |\n",
       "| 10 | 0.1 | 6.826836 | 6.60 | 21.5 |\n",
       "| 11 | 0.3 | 7.010606 | 6.30 | 21.8 |\n",
       "| 12 | 0.2 | 6.610938 | 5.80 | 18.8 |\n",
       "\n"
      ],
      "text/plain": [
       "   mes minim mean     mediana max \n",
       "1   1  0.4   7.893214 7.70    22.2\n",
       "2   2  0.2   6.440241 5.90    20.5\n",
       "3   3  0.3   7.630070 7.60    20.3\n",
       "4   4  1.0   8.805618 9.05    21.4\n",
       "5   5  1.3   8.953320 9.10    19.7\n",
       "6   6  0.4   7.727739 7.60    21.2\n",
       "7   7  0.4   8.783465 9.30    17.3\n",
       "8   8  1.4   8.548861 8.50    17.7\n",
       "9   9  0.2   7.087308 7.10    17.9\n",
       "10 10  0.1   6.826836 6.60    21.5\n",
       "11 11  0.3   7.010606 6.30    21.8\n",
       "12 12  0.2   6.610938 5.80    18.8"
      ]
     },
     "metadata": {},
     "output_type": "display_data"
    }
   ],
   "source": [
    "wind_mes"
   ]
  },
  {
   "cell_type": "code",
   "execution_count": 53,
   "metadata": {},
   "outputs": [],
   "source": [
    "#Guardo el resumen de cada mes eliminando el númer de fila al guardar\n",
    "write.csv(wind_mes, file=\"Viento_mesTam.csv\", row.names = F)"
   ]
  },
  {
   "cell_type": "code",
   "execution_count": 54,
   "metadata": {},
   "outputs": [
    {
     "data": {
      "image/png": "[encoded data removed]",
      "text/plain": [
       "plot without title"
      ]
     },
     "metadata": {
      "image/png": {
       "height": 420,
       "width": 420
      }
     },
     "output_type": "display_data"
    }
   ],
   "source": [
    "#Grafica las velocidades agrupandolas por mes\n",
    "ggplot(data = wind1, aes(x = Avg.wind.speed.m.s.130m, fill = mes)) +\n",
    "  geom_bar() +\n",
    "  facet_wrap(~mes, scales = 'free_y')+\n",
    "  theme(axis.text.x = element_text(angle=65, vjust=0.6),legend.position = \"none\") +\n",
    "  xlab('Velocidades a 130m (m/s)')+\n",
    "  ylab('frecuencia')+\n",
    "  ggtitle('Gráfica de velocidades para cada uno de los 12 meses (2019)')\n"
   ]
  },
  {
   "cell_type": "code",
   "execution_count": 55,
   "metadata": {},
   "outputs": [
    {
     "data": {
      "image/png": "[encoded data removed]",
      "text/plain": [
       "Plot with title \"Distribución de Velocidades en Tamaulipas\""
      ]
     },
     "metadata": {
      "image/png": {
       "height": 420,
       "width": 420
      }
     },
     "output_type": "display_data"
    }
   ],
   "source": [
    "#Grafica de box plot para wind 1\n",
    "boxplot(wind1$Avg.wind.speed.m.s.130m, ylim= c(0,25), col=\"#74D2B3\", horizontal = T, main = \"Distribución de Velocidades en Tamaulipas\", xlab = \"Velocidades a 130 m (m/s)\", boxwex = 0.5)"
   ]
  },
  {
   "cell_type": "markdown",
   "metadata": {},
   "source": [
    "<ul> De acuerdo a la gráfica anterior el viento en Tamaulipas se puede clasificar en cuartiles que se encuentran de la siguiente manera: </ul>\n",
    "    <li> 0.1   inicio 1er cuartil </li>\n",
    "    <li> 5.0   inicio 2do cuartil </li>\n",
    "    <li> 7.5   media </li>\n",
    "    <li> 10.3  final 3er cuartil </li>\n",
    "    <li> 18.2  final 4to cuartil </li>"
   ]
  },
  {
   "cell_type": "markdown",
   "metadata": {},
   "source": [
    "De acuerdo al resumen obtenido por mes y a las gráficas febrero(mes 2) y diciembre(mes 12) son los que tienen velocidades de viento más bajas por lo que buscaremos las velocidades de viento por horario para ver si hay \n",
    "horarios en los que sea mejor trabajar "
   ]
  },
  {
   "cell_type": "code",
   "execution_count": 57,
   "metadata": {},
   "outputs": [],
   "source": [
    "#Genera un archivo llamado wind_feb que agrupa los datos por hora y obtiene: minimo, promedio, media y máximo por mes\n",
    "wind_feb <- filter(wind1, wind1$mes == 2)"
   ]
  },
  {
   "cell_type": "code",
   "execution_count": 58,
   "metadata": {},
   "outputs": [],
   "source": [
    "wind_feb <- wind_feb %>%\n",
    "  group_by(hora = wind_feb$hora)%>%\n",
    "  summarise(minim = min(Avg.wind.speed.m.s.130m,na.rm=T),mean = mean(Avg.wind.speed.m.s.130m,na.rm=T), mediana = median(Avg.wind.speed.m.s.130m,na.rm=T),max = max(Avg.wind.speed.m.s.130m,na.rm=T))"
   ]
  },
  {
   "cell_type": "code",
   "execution_count": 59,
   "metadata": {},
   "outputs": [
    {
     "data": {
      "text/html": [
       "<table>\n",
       "<caption>A tibble: 24 × 5</caption>\n",
       "<thead>\n",
       "\t<tr><th scope=col>hora</th><th scope=col>minim</th><th scope=col>mean</th><th scope=col>mediana</th><th scope=col>max</th></tr>\n",
       "\t<tr><th scope=col>&lt;int&gt;</th><th scope=col>&lt;dbl&gt;</th><th scope=col>&lt;dbl&gt;</th><th scope=col>&lt;dbl&gt;</th><th scope=col>&lt;dbl&gt;</th></tr>\n",
       "</thead>\n",
       "<tbody>\n",
       "\t<tr><td> 0</td><td>1.4</td><td>7.134286</td><td>5.90</td><td>20.5</td></tr>\n",
       "\t<tr><td> 1</td><td>0.3</td><td>7.015079</td><td>6.50</td><td>19.3</td></tr>\n",
       "\t<tr><td> 2</td><td>0.5</td><td>7.300000</td><td>7.10</td><td>14.2</td></tr>\n",
       "\t<tr><td> 3</td><td>0.4</td><td>6.426190</td><td>5.90</td><td>15.6</td></tr>\n",
       "\t<tr><td> 4</td><td>0.5</td><td>5.814286</td><td>5.80</td><td>17.2</td></tr>\n",
       "\t<tr><td> 5</td><td>0.3</td><td>5.893651</td><td>5.65</td><td>16.0</td></tr>\n",
       "\t<tr><td> 6</td><td>0.3</td><td>5.816667</td><td>5.60</td><td>14.4</td></tr>\n",
       "\t<tr><td> 7</td><td>0.2</td><td>5.721429</td><td>5.40</td><td>14.4</td></tr>\n",
       "\t<tr><td> 8</td><td>0.4</td><td>5.437302</td><td>5.00</td><td>13.1</td></tr>\n",
       "\t<tr><td> 9</td><td>0.9</td><td>5.230159</td><td>5.00</td><td>13.1</td></tr>\n",
       "\t<tr><td>10</td><td>0.9</td><td>5.273016</td><td>5.20</td><td>11.6</td></tr>\n",
       "\t<tr><td>11</td><td>0.9</td><td>5.459524</td><td>5.60</td><td>11.0</td></tr>\n",
       "\t<tr><td>12</td><td>1.4</td><td>5.855556</td><td>6.15</td><td>11.5</td></tr>\n",
       "\t<tr><td>13</td><td>1.1</td><td>5.413636</td><td>5.60</td><td>10.1</td></tr>\n",
       "\t<tr><td>14</td><td>1.5</td><td>5.740909</td><td>5.80</td><td>11.3</td></tr>\n",
       "\t<tr><td>15</td><td>2.3</td><td>5.982576</td><td>5.90</td><td>11.8</td></tr>\n",
       "\t<tr><td>16</td><td>2.2</td><td>6.483333</td><td>6.35</td><td>11.6</td></tr>\n",
       "\t<tr><td>17</td><td>2.7</td><td>6.910606</td><td>6.50</td><td>12.7</td></tr>\n",
       "\t<tr><td>18</td><td>2.1</td><td>7.393182</td><td>6.70</td><td>19.4</td></tr>\n",
       "\t<tr><td>19</td><td>2.8</td><td>7.931818</td><td>7.05</td><td>19.3</td></tr>\n",
       "\t<tr><td>20</td><td>1.8</td><td>7.908333</td><td>6.70</td><td>17.5</td></tr>\n",
       "\t<tr><td>21</td><td>1.5</td><td>7.602273</td><td>6.55</td><td>19.9</td></tr>\n",
       "\t<tr><td>22</td><td>2.2</td><td>7.438636</td><td>6.05</td><td>19.1</td></tr>\n",
       "\t<tr><td>23</td><td>1.5</td><td>7.250758</td><td>5.65</td><td>20.3</td></tr>\n",
       "</tbody>\n",
       "</table>\n"
      ],
      "text/latex": [
       "A tibble: 24 × 5\n",
       "\\begin{tabular}{lllll}\n",
       " hora & minim & mean & mediana & max\\\\\n",
       " <int> & <dbl> & <dbl> & <dbl> & <dbl>\\\\\n",
       "\\hline\n",
       "\t  0 & 1.4 & 7.134286 & 5.90 & 20.5\\\\\n",
       "\t  1 & 0.3 & 7.015079 & 6.50 & 19.3\\\\\n",
       "\t  2 & 0.5 & 7.300000 & 7.10 & 14.2\\\\\n",
       "\t  3 & 0.4 & 6.426190 & 5.90 & 15.6\\\\\n",
       "\t  4 & 0.5 & 5.814286 & 5.80 & 17.2\\\\\n",
       "\t  5 & 0.3 & 5.893651 & 5.65 & 16.0\\\\\n",
       "\t  6 & 0.3 & 5.816667 & 5.60 & 14.4\\\\\n",
       "\t  7 & 0.2 & 5.721429 & 5.40 & 14.4\\\\\n",
       "\t  8 & 0.4 & 5.437302 & 5.00 & 13.1\\\\\n",
       "\t  9 & 0.9 & 5.230159 & 5.00 & 13.1\\\\\n",
       "\t 10 & 0.9 & 5.273016 & 5.20 & 11.6\\\\\n",
       "\t 11 & 0.9 & 5.459524 & 5.60 & 11.0\\\\\n",
       "\t 12 & 1.4 & 5.855556 & 6.15 & 11.5\\\\\n",
       "\t 13 & 1.1 & 5.413636 & 5.60 & 10.1\\\\\n",
       "\t 14 & 1.5 & 5.740909 & 5.80 & 11.3\\\\\n",
       "\t 15 & 2.3 & 5.982576 & 5.90 & 11.8\\\\\n",
       "\t 16 & 2.2 & 6.483333 & 6.35 & 11.6\\\\\n",
       "\t 17 & 2.7 & 6.910606 & 6.50 & 12.7\\\\\n",
       "\t 18 & 2.1 & 7.393182 & 6.70 & 19.4\\\\\n",
       "\t 19 & 2.8 & 7.931818 & 7.05 & 19.3\\\\\n",
       "\t 20 & 1.8 & 7.908333 & 6.70 & 17.5\\\\\n",
       "\t 21 & 1.5 & 7.602273 & 6.55 & 19.9\\\\\n",
       "\t 22 & 2.2 & 7.438636 & 6.05 & 19.1\\\\\n",
       "\t 23 & 1.5 & 7.250758 & 5.65 & 20.3\\\\\n",
       "\\end{tabular}\n"
      ],
      "text/markdown": [
       "\n",
       "A tibble: 24 × 5\n",
       "\n",
       "| hora &lt;int&gt; | minim &lt;dbl&gt; | mean &lt;dbl&gt; | mediana &lt;dbl&gt; | max &lt;dbl&gt; |\n",
       "|---|---|---|---|---|\n",
       "|  0 | 1.4 | 7.134286 | 5.90 | 20.5 |\n",
       "|  1 | 0.3 | 7.015079 | 6.50 | 19.3 |\n",
       "|  2 | 0.5 | 7.300000 | 7.10 | 14.2 |\n",
       "|  3 | 0.4 | 6.426190 | 5.90 | 15.6 |\n",
       "|  4 | 0.5 | 5.814286 | 5.80 | 17.2 |\n",
       "|  5 | 0.3 | 5.893651 | 5.65 | 16.0 |\n",
       "|  6 | 0.3 | 5.816667 | 5.60 | 14.4 |\n",
       "|  7 | 0.2 | 5.721429 | 5.40 | 14.4 |\n",
       "|  8 | 0.4 | 5.437302 | 5.00 | 13.1 |\n",
       "|  9 | 0.9 | 5.230159 | 5.00 | 13.1 |\n",
       "| 10 | 0.9 | 5.273016 | 5.20 | 11.6 |\n",
       "| 11 | 0.9 | 5.459524 | 5.60 | 11.0 |\n",
       "| 12 | 1.4 | 5.855556 | 6.15 | 11.5 |\n",
       "| 13 | 1.1 | 5.413636 | 5.60 | 10.1 |\n",
       "| 14 | 1.5 | 5.740909 | 5.80 | 11.3 |\n",
       "| 15 | 2.3 | 5.982576 | 5.90 | 11.8 |\n",
       "| 16 | 2.2 | 6.483333 | 6.35 | 11.6 |\n",
       "| 17 | 2.7 | 6.910606 | 6.50 | 12.7 |\n",
       "| 18 | 2.1 | 7.393182 | 6.70 | 19.4 |\n",
       "| 19 | 2.8 | 7.931818 | 7.05 | 19.3 |\n",
       "| 20 | 1.8 | 7.908333 | 6.70 | 17.5 |\n",
       "| 21 | 1.5 | 7.602273 | 6.55 | 19.9 |\n",
       "| 22 | 2.2 | 7.438636 | 6.05 | 19.1 |\n",
       "| 23 | 1.5 | 7.250758 | 5.65 | 20.3 |\n",
       "\n"
      ],
      "text/plain": [
       "   hora minim mean     mediana max \n",
       "1   0   1.4   7.134286 5.90    20.5\n",
       "2   1   0.3   7.015079 6.50    19.3\n",
       "3   2   0.5   7.300000 7.10    14.2\n",
       "4   3   0.4   6.426190 5.90    15.6\n",
       "5   4   0.5   5.814286 5.80    17.2\n",
       "6   5   0.3   5.893651 5.65    16.0\n",
       "7   6   0.3   5.816667 5.60    14.4\n",
       "8   7   0.2   5.721429 5.40    14.4\n",
       "9   8   0.4   5.437302 5.00    13.1\n",
       "10  9   0.9   5.230159 5.00    13.1\n",
       "11 10   0.9   5.273016 5.20    11.6\n",
       "12 11   0.9   5.459524 5.60    11.0\n",
       "13 12   1.4   5.855556 6.15    11.5\n",
       "14 13   1.1   5.413636 5.60    10.1\n",
       "15 14   1.5   5.740909 5.80    11.3\n",
       "16 15   2.3   5.982576 5.90    11.8\n",
       "17 16   2.2   6.483333 6.35    11.6\n",
       "18 17   2.7   6.910606 6.50    12.7\n",
       "19 18   2.1   7.393182 6.70    19.4\n",
       "20 19   2.8   7.931818 7.05    19.3\n",
       "21 20   1.8   7.908333 6.70    17.5\n",
       "22 21   1.5   7.602273 6.55    19.9\n",
       "23 22   2.2   7.438636 6.05    19.1\n",
       "24 23   1.5   7.250758 5.65    20.3"
      ]
     },
     "metadata": {},
     "output_type": "display_data"
    }
   ],
   "source": [
    "wind_feb"
   ]
  },
  {
   "cell_type": "code",
   "execution_count": 60,
   "metadata": {},
   "outputs": [],
   "source": [
    "#Genera un archivo llamado wind_dic que agrupa los datos por hora y obtiene: minimo, promedio, media y máximo por mes\n",
    "wind_dic <- filter(wind1, wind1$mes == 12)"
   ]
  },
  {
   "cell_type": "code",
   "execution_count": 62,
   "metadata": {},
   "outputs": [],
   "source": [
    "wind_dic <- wind_dic %>%\n",
    "  group_by(hora = wind_dic$hora)%>%\n",
    "  summarise(minim = min(Avg.wind.speed.m.s.130m,na.rm=T),mean = mean(Avg.wind.speed.m.s.130m,na.rm=T), mediana = median(Avg.wind.speed.m.s.130m,na.rm=T),max = max(Avg.wind.speed.m.s.130m,na.rm=T))"
   ]
  },
  {
   "cell_type": "code",
   "execution_count": 63,
   "metadata": {},
   "outputs": [
    {
     "data": {
      "text/html": [
       "<table>\n",
       "<caption>A tibble: 24 × 5</caption>\n",
       "<thead>\n",
       "\t<tr><th scope=col>hora</th><th scope=col>minim</th><th scope=col>mean</th><th scope=col>mediana</th><th scope=col>max</th></tr>\n",
       "\t<tr><th scope=col>&lt;int&gt;</th><th scope=col>&lt;dbl&gt;</th><th scope=col>&lt;dbl&gt;</th><th scope=col>&lt;dbl&gt;</th><th scope=col>&lt;dbl&gt;</th></tr>\n",
       "</thead>\n",
       "<tbody>\n",
       "\t<tr><td> 0</td><td>1.6</td><td>8.001935</td><td>7.40</td><td>16.5</td></tr>\n",
       "\t<tr><td> 1</td><td>1.9</td><td>7.567742</td><td>6.50</td><td>16.7</td></tr>\n",
       "\t<tr><td> 2</td><td>1.1</td><td>6.983871</td><td>5.75</td><td>16.5</td></tr>\n",
       "\t<tr><td> 3</td><td>1.2</td><td>6.858065</td><td>5.65</td><td>17.5</td></tr>\n",
       "\t<tr><td> 4</td><td>0.2</td><td>6.554839</td><td>5.90</td><td>16.1</td></tr>\n",
       "\t<tr><td> 5</td><td>1.0</td><td>6.414516</td><td>5.60</td><td>14.4</td></tr>\n",
       "\t<tr><td> 6</td><td>1.8</td><td>6.734595</td><td>5.80</td><td>14.3</td></tr>\n",
       "\t<tr><td> 7</td><td>0.3</td><td>6.657955</td><td>5.70</td><td>14.8</td></tr>\n",
       "\t<tr><td> 8</td><td>0.3</td><td>6.551724</td><td>5.25</td><td>18.8</td></tr>\n",
       "\t<tr><td> 9</td><td>1.4</td><td>5.970115</td><td>4.95</td><td>16.2</td></tr>\n",
       "\t<tr><td>10</td><td>1.0</td><td>5.723563</td><td>4.90</td><td>17.2</td></tr>\n",
       "\t<tr><td>11</td><td>1.0</td><td>5.841379</td><td>5.20</td><td>17.1</td></tr>\n",
       "\t<tr><td>12</td><td>1.8</td><td>5.929885</td><td>5.25</td><td>16.1</td></tr>\n",
       "\t<tr><td>13</td><td>1.0</td><td>5.859770</td><td>5.30</td><td>15.7</td></tr>\n",
       "\t<tr><td>14</td><td>1.3</td><td>5.748276</td><td>5.65</td><td>15.9</td></tr>\n",
       "\t<tr><td>15</td><td>1.6</td><td>5.960920</td><td>5.85</td><td>14.4</td></tr>\n",
       "\t<tr><td>16</td><td>0.9</td><td>5.881034</td><td>5.65</td><td>14.4</td></tr>\n",
       "\t<tr><td>17</td><td>0.3</td><td>5.952299</td><td>5.75</td><td>14.5</td></tr>\n",
       "\t<tr><td>18</td><td>0.4</td><td>6.222989</td><td>5.45</td><td>14.2</td></tr>\n",
       "\t<tr><td>19</td><td>0.8</td><td>7.170109</td><td>6.85</td><td>15.4</td></tr>\n",
       "\t<tr><td>20</td><td>0.6</td><td>7.271505</td><td>7.60</td><td>15.2</td></tr>\n",
       "\t<tr><td>21</td><td>0.3</td><td>7.466129</td><td>7.35</td><td>15.7</td></tr>\n",
       "\t<tr><td>22</td><td>0.4</td><td>7.594624</td><td>7.30</td><td>16.6</td></tr>\n",
       "\t<tr><td>23</td><td>1.6</td><td>7.529032</td><td>7.30</td><td>15.9</td></tr>\n",
       "</tbody>\n",
       "</table>\n"
      ],
      "text/latex": [
       "A tibble: 24 × 5\n",
       "\\begin{tabular}{lllll}\n",
       " hora & minim & mean & mediana & max\\\\\n",
       " <int> & <dbl> & <dbl> & <dbl> & <dbl>\\\\\n",
       "\\hline\n",
       "\t  0 & 1.6 & 8.001935 & 7.40 & 16.5\\\\\n",
       "\t  1 & 1.9 & 7.567742 & 6.50 & 16.7\\\\\n",
       "\t  2 & 1.1 & 6.983871 & 5.75 & 16.5\\\\\n",
       "\t  3 & 1.2 & 6.858065 & 5.65 & 17.5\\\\\n",
       "\t  4 & 0.2 & 6.554839 & 5.90 & 16.1\\\\\n",
       "\t  5 & 1.0 & 6.414516 & 5.60 & 14.4\\\\\n",
       "\t  6 & 1.8 & 6.734595 & 5.80 & 14.3\\\\\n",
       "\t  7 & 0.3 & 6.657955 & 5.70 & 14.8\\\\\n",
       "\t  8 & 0.3 & 6.551724 & 5.25 & 18.8\\\\\n",
       "\t  9 & 1.4 & 5.970115 & 4.95 & 16.2\\\\\n",
       "\t 10 & 1.0 & 5.723563 & 4.90 & 17.2\\\\\n",
       "\t 11 & 1.0 & 5.841379 & 5.20 & 17.1\\\\\n",
       "\t 12 & 1.8 & 5.929885 & 5.25 & 16.1\\\\\n",
       "\t 13 & 1.0 & 5.859770 & 5.30 & 15.7\\\\\n",
       "\t 14 & 1.3 & 5.748276 & 5.65 & 15.9\\\\\n",
       "\t 15 & 1.6 & 5.960920 & 5.85 & 14.4\\\\\n",
       "\t 16 & 0.9 & 5.881034 & 5.65 & 14.4\\\\\n",
       "\t 17 & 0.3 & 5.952299 & 5.75 & 14.5\\\\\n",
       "\t 18 & 0.4 & 6.222989 & 5.45 & 14.2\\\\\n",
       "\t 19 & 0.8 & 7.170109 & 6.85 & 15.4\\\\\n",
       "\t 20 & 0.6 & 7.271505 & 7.60 & 15.2\\\\\n",
       "\t 21 & 0.3 & 7.466129 & 7.35 & 15.7\\\\\n",
       "\t 22 & 0.4 & 7.594624 & 7.30 & 16.6\\\\\n",
       "\t 23 & 1.6 & 7.529032 & 7.30 & 15.9\\\\\n",
       "\\end{tabular}\n"
      ],
      "text/markdown": [
       "\n",
       "A tibble: 24 × 5\n",
       "\n",
       "| hora &lt;int&gt; | minim &lt;dbl&gt; | mean &lt;dbl&gt; | mediana &lt;dbl&gt; | max &lt;dbl&gt; |\n",
       "|---|---|---|---|---|\n",
       "|  0 | 1.6 | 8.001935 | 7.40 | 16.5 |\n",
       "|  1 | 1.9 | 7.567742 | 6.50 | 16.7 |\n",
       "|  2 | 1.1 | 6.983871 | 5.75 | 16.5 |\n",
       "|  3 | 1.2 | 6.858065 | 5.65 | 17.5 |\n",
       "|  4 | 0.2 | 6.554839 | 5.90 | 16.1 |\n",
       "|  5 | 1.0 | 6.414516 | 5.60 | 14.4 |\n",
       "|  6 | 1.8 | 6.734595 | 5.80 | 14.3 |\n",
       "|  7 | 0.3 | 6.657955 | 5.70 | 14.8 |\n",
       "|  8 | 0.3 | 6.551724 | 5.25 | 18.8 |\n",
       "|  9 | 1.4 | 5.970115 | 4.95 | 16.2 |\n",
       "| 10 | 1.0 | 5.723563 | 4.90 | 17.2 |\n",
       "| 11 | 1.0 | 5.841379 | 5.20 | 17.1 |\n",
       "| 12 | 1.8 | 5.929885 | 5.25 | 16.1 |\n",
       "| 13 | 1.0 | 5.859770 | 5.30 | 15.7 |\n",
       "| 14 | 1.3 | 5.748276 | 5.65 | 15.9 |\n",
       "| 15 | 1.6 | 5.960920 | 5.85 | 14.4 |\n",
       "| 16 | 0.9 | 5.881034 | 5.65 | 14.4 |\n",
       "| 17 | 0.3 | 5.952299 | 5.75 | 14.5 |\n",
       "| 18 | 0.4 | 6.222989 | 5.45 | 14.2 |\n",
       "| 19 | 0.8 | 7.170109 | 6.85 | 15.4 |\n",
       "| 20 | 0.6 | 7.271505 | 7.60 | 15.2 |\n",
       "| 21 | 0.3 | 7.466129 | 7.35 | 15.7 |\n",
       "| 22 | 0.4 | 7.594624 | 7.30 | 16.6 |\n",
       "| 23 | 1.6 | 7.529032 | 7.30 | 15.9 |\n",
       "\n"
      ],
      "text/plain": [
       "   hora minim mean     mediana max \n",
       "1   0   1.6   8.001935 7.40    16.5\n",
       "2   1   1.9   7.567742 6.50    16.7\n",
       "3   2   1.1   6.983871 5.75    16.5\n",
       "4   3   1.2   6.858065 5.65    17.5\n",
       "5   4   0.2   6.554839 5.90    16.1\n",
       "6   5   1.0   6.414516 5.60    14.4\n",
       "7   6   1.8   6.734595 5.80    14.3\n",
       "8   7   0.3   6.657955 5.70    14.8\n",
       "9   8   0.3   6.551724 5.25    18.8\n",
       "10  9   1.4   5.970115 4.95    16.2\n",
       "11 10   1.0   5.723563 4.90    17.2\n",
       "12 11   1.0   5.841379 5.20    17.1\n",
       "13 12   1.8   5.929885 5.25    16.1\n",
       "14 13   1.0   5.859770 5.30    15.7\n",
       "15 14   1.3   5.748276 5.65    15.9\n",
       "16 15   1.6   5.960920 5.85    14.4\n",
       "17 16   0.9   5.881034 5.65    14.4\n",
       "18 17   0.3   5.952299 5.75    14.5\n",
       "19 18   0.4   6.222989 5.45    14.2\n",
       "20 19   0.8   7.170109 6.85    15.4\n",
       "21 20   0.6   7.271505 7.60    15.2\n",
       "22 21   0.3   7.466129 7.35    15.7\n",
       "23 22   0.4   7.594624 7.30    16.6\n",
       "24 23   1.6   7.529032 7.30    15.9"
      ]
     },
     "metadata": {},
     "output_type": "display_data"
    }
   ],
   "source": [
    "wind_dic"
   ]
  },
  {
   "cell_type": "code",
   "execution_count": null,
   "metadata": {},
   "outputs": [],
   "source": []
  }
 ],
 "metadata": {
  "kernelspec": {
   "display_name": "R",
   "language": "R",
   "name": "ir"
  },
  "language_info": {
   "codemirror_mode": "r",
   "file_extension": ".r",
   "mimetype": "text/x-r-source",
   "name": "R",
   "pygments_lexer": "r",
   "version": "3.6.2"
  }
 },
 "nbformat": 4,
 "nbformat_minor": 4
}
