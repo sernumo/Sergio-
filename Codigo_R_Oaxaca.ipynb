{
 "cells": [
  {
   "cell_type": "code",
   "execution_count": 18,
   "metadata": {},
   "outputs": [],
   "source": [
    "library(lubridate)\n",
    "library(ggplot2)\n",
    "library(tidyverse)"
   ]
  },
  {
   "cell_type": "code",
   "execution_count": 39,
   "metadata": {},
   "outputs": [],
   "source": [
    "#LLamado del archivo base\n",
    "Oax_windspeeddata <- read.csv(\"~/GitHub/Proyecto_Energia_BEDU/2019_data_oaxaca_Windspeed.csv\")"
   ]
  },
  {
   "cell_type": "code",
   "execution_count": 40,
   "metadata": {},
   "outputs": [],
   "source": [
    "#Creando un archivo para modificar\n",
    "wind1_Oax <- Oax_windspeeddata"
   ]
  },
  {
   "cell_type": "code",
   "execution_count": 41,
   "metadata": {},
   "outputs": [
    {
     "name": "stdout",
     "output_type": "stream",
     "text": [
      "'data.frame':\t52560 obs. of  2 variables:\n",
      " $ PCTimeStamp            : Factor w/ 52560 levels \"01/01/2019 00:10\",..: 1 2 3 4 5 6 7 8 9 10 ...\n",
      " $ Avg.wind.speed.m.s.130m: num  13 14.5 13.1 14.1 13.2 11.5 11.3 10.6 10.5 10.7 ...\n"
     ]
    }
   ],
   "source": [
    "#Muestra la estructura de los datos\n",
    "str(wind1_Oax)"
   ]
  },
  {
   "cell_type": "code",
   "execution_count": 42,
   "metadata": {},
   "outputs": [],
   "source": [
    "#Convierte todos los datos a dtos tipo caracter\n",
    "wind1_Oax[] <- lapply(wind1_Oax, as.character)"
   ]
  },
  {
   "cell_type": "code",
   "execution_count": 43,
   "metadata": {},
   "outputs": [
    {
     "name": "stdout",
     "output_type": "stream",
     "text": [
      "'data.frame':\t52560 obs. of  2 variables:\n",
      " $ PCTimeStamp            : chr  \"01/01/2019 00:10\" \"01/01/2019 00:20\" \"01/01/2019 00:30\" \"01/01/2019 00:40\" ...\n",
      " $ Avg.wind.speed.m.s.130m: chr  \"13\" \"14.5\" \"13.1\" \"14.1\" ...\n"
     ]
    }
   ],
   "source": [
    "#Muestra la estructura de los datos (deben ser caracteres)\n",
    "str(wind1_Oax)"
   ]
  },
  {
   "cell_type": "code",
   "execution_count": 44,
   "metadata": {},
   "outputs": [
    {
     "data": {
      "text/html": [
       "<style>\n",
       ".dl-inline {width: auto; margin:0; padding: 0}\n",
       ".dl-inline>dt, .dl-inline>dd {float: none; width: auto; display: inline-block}\n",
       ".dl-inline>dt::after {content: \":\\0020\"; padding-right: .5ex}\n",
       ".dl-inline>dt:not(:first-of-type) {padding-left: .5ex}\n",
       "</style><dl class=dl-inline><dt>PCTimeStamp</dt><dd>0</dd><dt>Avg.wind.speed.m.s.130m</dt><dd>701</dd></dl>\n"
      ],
      "text/latex": [
       "\\begin{description*}\n",
       "\\item[PCTimeStamp] 0\n",
       "\\item[Avg.wind.speed.m.s.130m] 701\n",
       "\\end{description*}\n"
      ],
      "text/markdown": [
       "PCTimeStamp\n",
       ":   0Avg.wind.speed.m.s.130m\n",
       ":   701\n",
       "\n"
      ],
      "text/plain": [
       "            PCTimeStamp Avg.wind.speed.m.s.130m \n",
       "                      0                     701 "
      ]
     },
     "metadata": {},
     "output_type": "display_data"
    }
   ],
   "source": [
    "#Cuenta los datos nulos por columna\n",
    "sapply(wind1_Oax, function(x) sum(is.na(x)))"
   ]
  },
  {
   "cell_type": "code",
   "execution_count": 45,
   "metadata": {},
   "outputs": [],
   "source": [
    "#Elimina filas con NA\n",
    "wind1_Oax <- na.omit(wind1_Oax)"
   ]
  },
  {
   "cell_type": "code",
   "execution_count": 46,
   "metadata": {},
   "outputs": [
    {
     "data": {
      "text/html": [
       "<style>\n",
       ".dl-inline {width: auto; margin:0; padding: 0}\n",
       ".dl-inline>dt, .dl-inline>dd {float: none; width: auto; display: inline-block}\n",
       ".dl-inline>dt::after {content: \":\\0020\"; padding-right: .5ex}\n",
       ".dl-inline>dt:not(:first-of-type) {padding-left: .5ex}\n",
       "</style><dl class=dl-inline><dt>PCTimeStamp</dt><dd>0</dd><dt>Avg.wind.speed.m.s.130m</dt><dd>0</dd></dl>\n"
      ],
      "text/latex": [
       "\\begin{description*}\n",
       "\\item[PCTimeStamp] 0\n",
       "\\item[Avg.wind.speed.m.s.130m] 0\n",
       "\\end{description*}\n"
      ],
      "text/markdown": [
       "PCTimeStamp\n",
       ":   0Avg.wind.speed.m.s.130m\n",
       ":   0\n",
       "\n"
      ],
      "text/plain": [
       "            PCTimeStamp Avg.wind.speed.m.s.130m \n",
       "                      0                       0 "
      ]
     },
     "metadata": {},
     "output_type": "display_data"
    }
   ],
   "source": [
    "#Cuenta los datos nulos por columna\n",
    "sapply(wind1_Oax, function(x) sum(is.na(x)))"
   ]
  },
  {
   "cell_type": "code",
   "execution_count": 47,
   "metadata": {},
   "outputs": [
    {
     "data": {
      "text/html": [
       "<table>\n",
       "<caption>A data.frame: 6 × 2</caption>\n",
       "<thead>\n",
       "\t<tr><th></th><th scope=col>PCTimeStamp</th><th scope=col>Avg.wind.speed.m.s.130m</th></tr>\n",
       "\t<tr><th></th><th scope=col>&lt;chr&gt;</th><th scope=col>&lt;chr&gt;</th></tr>\n",
       "</thead>\n",
       "<tbody>\n",
       "\t<tr><th scope=row>1</th><td>01/01/2019 00:10</td><td>13  </td></tr>\n",
       "\t<tr><th scope=row>2</th><td>01/01/2019 00:20</td><td>14.5</td></tr>\n",
       "\t<tr><th scope=row>3</th><td>01/01/2019 00:30</td><td>13.1</td></tr>\n",
       "\t<tr><th scope=row>4</th><td>01/01/2019 00:40</td><td>14.1</td></tr>\n",
       "\t<tr><th scope=row>5</th><td>01/01/2019 00:50</td><td>13.2</td></tr>\n",
       "\t<tr><th scope=row>6</th><td>01/01/2019 01:00</td><td>11.5</td></tr>\n",
       "</tbody>\n",
       "</table>\n"
      ],
      "text/latex": [
       "A data.frame: 6 × 2\n",
       "\\begin{tabular}{r|ll}\n",
       "  & PCTimeStamp & Avg.wind.speed.m.s.130m\\\\\n",
       "  & <chr> & <chr>\\\\\n",
       "\\hline\n",
       "\t1 & 01/01/2019 00:10 & 13  \\\\\n",
       "\t2 & 01/01/2019 00:20 & 14.5\\\\\n",
       "\t3 & 01/01/2019 00:30 & 13.1\\\\\n",
       "\t4 & 01/01/2019 00:40 & 14.1\\\\\n",
       "\t5 & 01/01/2019 00:50 & 13.2\\\\\n",
       "\t6 & 01/01/2019 01:00 & 11.5\\\\\n",
       "\\end{tabular}\n"
      ],
      "text/markdown": [
       "\n",
       "A data.frame: 6 × 2\n",
       "\n",
       "| <!--/--> | PCTimeStamp &lt;chr&gt; | Avg.wind.speed.m.s.130m &lt;chr&gt; |\n",
       "|---|---|---|\n",
       "| 1 | 01/01/2019 00:10 | 13   |\n",
       "| 2 | 01/01/2019 00:20 | 14.5 |\n",
       "| 3 | 01/01/2019 00:30 | 13.1 |\n",
       "| 4 | 01/01/2019 00:40 | 14.1 |\n",
       "| 5 | 01/01/2019 00:50 | 13.2 |\n",
       "| 6 | 01/01/2019 01:00 | 11.5 |\n",
       "\n"
      ],
      "text/plain": [
       "  PCTimeStamp      Avg.wind.speed.m.s.130m\n",
       "1 01/01/2019 00:10 13                     \n",
       "2 01/01/2019 00:20 14.5                   \n",
       "3 01/01/2019 00:30 13.1                   \n",
       "4 01/01/2019 00:40 14.1                   \n",
       "5 01/01/2019 00:50 13.2                   \n",
       "6 01/01/2019 01:00 11.5                   "
      ]
     },
     "metadata": {},
     "output_type": "display_data"
    }
   ],
   "source": [
    "head(wind1_Oax)"
   ]
  },
  {
   "cell_type": "code",
   "execution_count": 48,
   "metadata": {},
   "outputs": [],
   "source": [
    "#Convierte la variable PCTimeStamp a tipo fecha y Avg.wind.speed a dato numÃ©rico\n",
    "wind1_Oax$PCTimeStamp <- parse_date_time(wind1_Oax$PCTimeStamp,\"dmy HM\")\n",
    "wind1_Oax$Avg.wind.speed.m.s.130m <- as.numeric(wind1_Oax$Avg.wind.speed.m.s.130m)"
   ]
  },
  {
   "cell_type": "code",
   "execution_count": 49,
   "metadata": {},
   "outputs": [],
   "source": [
    "#Crea las variables de: fecha, mes, dia, anio, hora y minuto por separado\n",
    "wind1_Oax$fecha <- date(wind1_Oax$PCTimeStamp)\n",
    "wind1_Oax$mes <- month(wind1_Oax$PCTimeStamp)\n",
    "wind1_Oax$dia <- day(wind1_Oax$PCTimeStamp)\n",
    "wind1_Oax$anio <- year(wind1_Oax$PCTimeStamp)\n",
    "wind1_Oax$hora <- hour(wind1_Oax$PCTimeStamp)\n",
    "wind1_Oax$minuto <- minute(wind1_Oax$PCTimeStamp)"
   ]
  },
  {
   "cell_type": "code",
   "execution_count": 50,
   "metadata": {},
   "outputs": [],
   "source": [
    "#Elimina filas con NA\n",
    "wind1_Oax <- na.omit(wind1_Oax)"
   ]
  },
  {
   "cell_type": "code",
   "execution_count": 51,
   "metadata": {},
   "outputs": [],
   "source": [
    "#Defino donde voy a guardar mi archivo de respaldo\n",
    "setwd(\"~/Proyecto_Energia\")"
   ]
  },
  {
   "cell_type": "code",
   "execution_count": 52,
   "metadata": {},
   "outputs": [],
   "source": [
    "#Guardamos nuestro nuevo archivo ya con los datos en las variables correctas\n",
    "write.csv(wind1_Oax, file=\"Viento_Oax2019.csv\", row.names = F)"
   ]
  },
  {
   "cell_type": "code",
   "execution_count": 53,
   "metadata": {},
   "outputs": [
    {
     "data": {
      "text/plain": [
       "   Min. 1st Qu.  Median    Mean 3rd Qu.    Max. \n",
       "  0.000   5.500   8.700   9.619  13.300  27.700 "
      ]
     },
     "metadata": {},
     "output_type": "display_data"
    }
   ],
   "source": [
    "#Muestra un resumen con las estadisticas basicas de cada variable\n",
    "summary(wind1_Oax$Avg.wind.speed.m.s.130m)"
   ]
  },
  {
   "cell_type": "code",
   "execution_count": 54,
   "metadata": {},
   "outputs": [
    {
     "data": {
      "image/png": "[encoded data removed]",
      "text/plain": [
       "plot without title"
      ]
     },
     "metadata": {
      "image/png": {
       "height": 420,
       "width": 420
      }
     },
     "output_type": "display_data"
    }
   ],
   "source": [
    "#Genera un archivo nuevo y grafica los datos para ver un primer comportamiento\n",
    "wind_prueba_Oax <- wind1_Oax %>% select(1:2)\n",
    "plot(wind_prueba_Oax)"
   ]
  },
  {
   "cell_type": "code",
   "execution_count": 62,
   "metadata": {},
   "outputs": [
    {
     "data": {
      "image/png": "[encoded data removed]",
      "text/plain": [
       "Plot with title \"Distribución de Velocidades en Oaxaca\""
      ]
     },
     "metadata": {
      "image/png": {
       "height": 420,
       "width": 420
      }
     },
     "output_type": "display_data"
    }
   ],
   "source": [
    "#Parte la pantalla en 2 filas y una columna ademÃ¡s de definir los margenes\n",
    "par(mfrow = c(2,1), mar = c(2,2,2,2))\n",
    "#La primera fila sera el histograma anual de velocidades\n",
    "hist(wind_prueba_Oax$Avg.wind.speed.m.s.130m, main=\"Histograma de velocidades en Oaxaca\", xlab=\"Velocidad del viento a 130m\", ylab = \"Frecuencia\" , col=\"#74D2B3\", xlim=c(0,25))\n",
    "\n",
    "#La segunda fila es el diagrama de caja de las velocidades anuales a la misma escala\n",
    "boxplot(wind1_Oax$Avg.wind.speed.m.s.130m, ylim= c(0,25), col=\"#74D2B3\", horizontal = T, main = \"Distribución de Velocidades en Oaxaca\", xlab = \"Velocidades a 130 m (m/s)\", boxwex = 0.5)"
   ]
  },
  {
   "cell_type": "markdown",
   "metadata": {},
   "source": [
    "<ul> Utilizando un codigo de boxplot sin gráfica nos muestra que los datos se clasifican de la siguiente manera: </ul>\n",
    "\n",
    "<li> 0.0 inicio 1er cuartil </li> \n",
    "<li> 5.5  inicio 2do cuartil </li>\n",
    "<li> 8.7  media </li>\n",
    "<li> 13.3  final 3er cuartil </li>\n",
    "<li> 25  final 4to cuartil </li>\n"
   ]
  },
  {
   "cell_type": "code",
   "execution_count": 56,
   "metadata": {},
   "outputs": [],
   "source": [
    "#Genera un archivo llamado wind_mes_Oax ue agrupa los datos por mes y obtiene: minimo, promedio, media y mÃ¡ximo por mes\n",
    "wind_mes_Oax <- wind1_Oax %>%\n",
    "  group_by(mes =wind1_Oax$mes)%>%\n",
    "  summarise(minim = min(Avg.wind.speed.m.s.130m,na.rm=T),mean = mean(Avg.wind.speed.m.s.130m,na.rm=T), mediana = median(Avg.wind.speed.m.s.130m,na.rm=T),max = max(Avg.wind.speed.m.s.130m,na.rm=T))"
   ]
  },
  {
   "cell_type": "code",
   "execution_count": 57,
   "metadata": {},
   "outputs": [
    {
     "data": {
      "text/html": [
       "<table>\n",
       "<caption>A tibble: 12 × 5</caption>\n",
       "<thead>\n",
       "\t<tr><th scope=col>mes</th><th scope=col>minim</th><th scope=col>mean</th><th scope=col>mediana</th><th scope=col>max</th></tr>\n",
       "\t<tr><th scope=col>&lt;dbl&gt;</th><th scope=col>&lt;dbl&gt;</th><th scope=col>&lt;dbl&gt;</th><th scope=col>&lt;dbl&gt;</th><th scope=col>&lt;dbl&gt;</th></tr>\n",
       "</thead>\n",
       "<tbody>\n",
       "\t<tr><td> 1</td><td>0.5</td><td>14.359543</td><td>14.8</td><td>27.2</td></tr>\n",
       "\t<tr><td> 2</td><td>0.6</td><td> 9.679881</td><td> 8.0</td><td>27.5</td></tr>\n",
       "\t<tr><td> 3</td><td>0.0</td><td>12.339729</td><td>13.1</td><td>27.7</td></tr>\n",
       "\t<tr><td> 4</td><td>0.3</td><td> 9.304861</td><td> 7.9</td><td>25.1</td></tr>\n",
       "\t<tr><td> 5</td><td>0.3</td><td> 5.939095</td><td> 5.9</td><td>20.7</td></tr>\n",
       "\t<tr><td> 6</td><td>0.3</td><td> 6.733713</td><td> 5.7</td><td>21.1</td></tr>\n",
       "\t<tr><td> 7</td><td>0.3</td><td> 9.173477</td><td> 9.7</td><td>18.2</td></tr>\n",
       "\t<tr><td> 8</td><td>0.3</td><td> 6.573622</td><td> 6.2</td><td>17.8</td></tr>\n",
       "\t<tr><td> 9</td><td>0.3</td><td> 7.979050</td><td> 7.7</td><td>18.5</td></tr>\n",
       "\t<tr><td>10</td><td>0.5</td><td> 7.757172</td><td> 7.3</td><td>26.5</td></tr>\n",
       "\t<tr><td>11</td><td>0.5</td><td>12.224584</td><td>12.3</td><td>23.3</td></tr>\n",
       "\t<tr><td>12</td><td>0.6</td><td>13.078251</td><td>12.9</td><td>27.7</td></tr>\n",
       "</tbody>\n",
       "</table>\n"
      ],
      "text/latex": [
       "A tibble: 12 × 5\n",
       "\\begin{tabular}{lllll}\n",
       " mes & minim & mean & mediana & max\\\\\n",
       " <dbl> & <dbl> & <dbl> & <dbl> & <dbl>\\\\\n",
       "\\hline\n",
       "\t  1 & 0.5 & 14.359543 & 14.8 & 27.2\\\\\n",
       "\t  2 & 0.6 &  9.679881 &  8.0 & 27.5\\\\\n",
       "\t  3 & 0.0 & 12.339729 & 13.1 & 27.7\\\\\n",
       "\t  4 & 0.3 &  9.304861 &  7.9 & 25.1\\\\\n",
       "\t  5 & 0.3 &  5.939095 &  5.9 & 20.7\\\\\n",
       "\t  6 & 0.3 &  6.733713 &  5.7 & 21.1\\\\\n",
       "\t  7 & 0.3 &  9.173477 &  9.7 & 18.2\\\\\n",
       "\t  8 & 0.3 &  6.573622 &  6.2 & 17.8\\\\\n",
       "\t  9 & 0.3 &  7.979050 &  7.7 & 18.5\\\\\n",
       "\t 10 & 0.5 &  7.757172 &  7.3 & 26.5\\\\\n",
       "\t 11 & 0.5 & 12.224584 & 12.3 & 23.3\\\\\n",
       "\t 12 & 0.6 & 13.078251 & 12.9 & 27.7\\\\\n",
       "\\end{tabular}\n"
      ],
      "text/markdown": [
       "\n",
       "A tibble: 12 × 5\n",
       "\n",
       "| mes &lt;dbl&gt; | minim &lt;dbl&gt; | mean &lt;dbl&gt; | mediana &lt;dbl&gt; | max &lt;dbl&gt; |\n",
       "|---|---|---|---|---|\n",
       "|  1 | 0.5 | 14.359543 | 14.8 | 27.2 |\n",
       "|  2 | 0.6 |  9.679881 |  8.0 | 27.5 |\n",
       "|  3 | 0.0 | 12.339729 | 13.1 | 27.7 |\n",
       "|  4 | 0.3 |  9.304861 |  7.9 | 25.1 |\n",
       "|  5 | 0.3 |  5.939095 |  5.9 | 20.7 |\n",
       "|  6 | 0.3 |  6.733713 |  5.7 | 21.1 |\n",
       "|  7 | 0.3 |  9.173477 |  9.7 | 18.2 |\n",
       "|  8 | 0.3 |  6.573622 |  6.2 | 17.8 |\n",
       "|  9 | 0.3 |  7.979050 |  7.7 | 18.5 |\n",
       "| 10 | 0.5 |  7.757172 |  7.3 | 26.5 |\n",
       "| 11 | 0.5 | 12.224584 | 12.3 | 23.3 |\n",
       "| 12 | 0.6 | 13.078251 | 12.9 | 27.7 |\n",
       "\n"
      ],
      "text/plain": [
       "   mes minim mean      mediana max \n",
       "1   1  0.5   14.359543 14.8    27.2\n",
       "2   2  0.6    9.679881  8.0    27.5\n",
       "3   3  0.0   12.339729 13.1    27.7\n",
       "4   4  0.3    9.304861  7.9    25.1\n",
       "5   5  0.3    5.939095  5.9    20.7\n",
       "6   6  0.3    6.733713  5.7    21.1\n",
       "7   7  0.3    9.173477  9.7    18.2\n",
       "8   8  0.3    6.573622  6.2    17.8\n",
       "9   9  0.3    7.979050  7.7    18.5\n",
       "10 10  0.5    7.757172  7.3    26.5\n",
       "11 11  0.5   12.224584 12.3    23.3\n",
       "12 12  0.6   13.078251 12.9    27.7"
      ]
     },
     "metadata": {},
     "output_type": "display_data"
    }
   ],
   "source": [
    "wind_mes_Oax"
   ]
  },
  {
   "cell_type": "code",
   "execution_count": 58,
   "metadata": {},
   "outputs": [],
   "source": [
    "#Guardo el resumen de cada mes eliminando el nÃºmer de dila al guardar\n",
    "write.csv(wind_mes_Oax, file=\"Viento_mesOax.csv\", row.names = F)"
   ]
  },
  {
   "cell_type": "code",
   "execution_count": 60,
   "metadata": {},
   "outputs": [
    {
     "data": {
      "image/png": "[encoded data removed]",
      "text/plain": [
       "plot without title"
      ]
     },
     "metadata": {
      "image/png": {
       "height": 420,
       "width": 420
      }
     },
     "output_type": "display_data"
    }
   ],
   "source": [
    "#Grafica las velocidades agrupandolas por mes\n",
    "ggplot(data = wind1_Oax, aes(x = Avg.wind.speed.m.s.130m, fill = mes)) +\n",
    "  geom_bar() +\n",
    "  facet_wrap(~mes, scales = 'free_y')+\n",
    "  theme(axis.text.x = element_text(angle=65, vjust=0.6),legend.position = \"none\") +\n",
    "  xlab('Velocidades a 130m (m/s)')+\n",
    "  ylab('frecuencia')+\n",
    "  ggtitle('Gráfica de velocidades para cada uno de los 12 meses (2019)')"
   ]
  },
  {
   "cell_type": "code",
   "execution_count": null,
   "metadata": {},
   "outputs": [],
   "source": []
  }
 ],
 "metadata": {
  "kernelspec": {
   "display_name": "R",
   "language": "R",
   "name": "ir"
  },
  "language_info": {
   "codemirror_mode": "r",
   "file_extension": ".r",
   "mimetype": "text/x-r-source",
   "name": "R",
   "pygments_lexer": "r",
   "version": "3.6.2"
  }
 },
 "nbformat": 4,
 "nbformat_minor": 4
}
